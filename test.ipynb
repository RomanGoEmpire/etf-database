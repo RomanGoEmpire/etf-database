{
 "cells": [
  {
   "cell_type": "code",
   "execution_count": 1,
   "outputs": [],
   "source": [
    "import time\n",
    "import os\n",
    "\n",
    "import pandas as pd\n",
    "import requests\n",
    "import csv"
   ],
   "metadata": {
    "collapsed": false,
    "ExecuteTime": {
     "end_time": "2023-10-17T00:56:05.610911Z",
     "start_time": "2023-10-17T00:56:05.226723100Z"
    }
   },
   "id": "c7e2e6c67620187d"
  },
  {
   "cell_type": "markdown",
   "source": [
    "# Get Listing Status"
   ],
   "metadata": {
    "collapsed": false
   },
   "id": "a0f69b2f33574deb"
  },
  {
   "cell_type": "code",
   "execution_count": 247,
   "outputs": [],
   "source": [
    "# get listing status\n",
    "api_key = open(\"key\", \"r\").read()\n",
    "url = 'https://www.alphavantage.co/query'\n",
    "params = {\n",
    "    \"apikey\": api_key,\n",
    "    \"function\": \"LISTING_STATUS\",\n",
    "    \"outputsize\": \"full\",\n",
    "    \"datatype\": \"csv\"\n",
    "}\n",
    "\n",
    "response = requests.get(url, params=params)\n",
    "\n",
    "response = response.content.decode('utf-8')\n",
    "response = response.splitlines()\n",
    "response = [line.split(',') for line in response]\n",
    "# save to csv\n",
    "with open('data/listing_status.csv', 'w', newline='') as csvfile:\n",
    "    writer = csv.writer(csvfile)\n",
    "    for row in response:\n",
    "        writer.writerow(row)"
   ],
   "metadata": {
    "collapsed": false,
    "ExecuteTime": {
     "end_time": "2023-10-17T00:05:15.361346800Z",
     "start_time": "2023-10-17T00:05:14.329891600Z"
    }
   },
   "id": "d44a587872244125"
  },
  {
   "cell_type": "code",
   "execution_count": 248,
   "outputs": [],
   "source": [
    "df_symbols = pd.read_csv('data/listing_status.csv', delimiter=',')\n",
    "# drop rows where name is NaN\n",
    "df_symbols = df_symbols.dropna(subset=['name'])\n",
    "# save to csv\n",
    "df_symbols.to_csv('data/listing_status.csv', index=True)"
   ],
   "metadata": {
    "collapsed": false,
    "ExecuteTime": {
     "end_time": "2023-10-17T00:05:15.411380400Z",
     "start_time": "2023-10-17T00:05:15.363411400Z"
    }
   },
   "id": "794f2fdd04459cac"
  },
  {
   "cell_type": "markdown",
   "source": [
    "# Methods to get Time Series data"
   ],
   "metadata": {
    "collapsed": false
   },
   "id": "7ce4076f10b52c86"
  },
  {
   "cell_type": "code",
   "execution_count": 38,
   "outputs": [],
   "source": [
    "error_msg = b'{\\n    \"Note\": \"Thank you for using Alpha Vantage! Our standard API call frequency is 5 calls per minute and 100 calls per day. Please visit https://www.alphavantage.co/premium/ if you would like to target a higher API call frequency.\"\\n}'\n",
    "max_error = b'{\\n    \"Information\": \"Thank you for using Alpha Vantage! You have reached the 100 requests/day limit for your free API key. Please subscribe to any of the premium plans at https://www.alphavantage.co/premium/ to instantly remove all daily rate limits.\"\\n}'"
   ],
   "metadata": {
    "collapsed": false,
    "ExecuteTime": {
     "end_time": "2023-10-17T01:17:26.400331200Z",
     "start_time": "2023-10-17T01:17:26.379660200Z"
    }
   },
   "id": "e025d7b331227a32"
  },
  {
   "cell_type": "code",
   "execution_count": 46,
   "outputs": [],
   "source": [
    "def get_response(api_key, function, symbol):\n",
    "    params = {\n",
    "        \"apikey\": api_key,\n",
    "        \"function\": function,\n",
    "        \"symbol\": symbol,\n",
    "        \"outputsize\": \"full\",\n",
    "        \"datatype\": \"csv\"\n",
    "    }\n",
    "    response = requests.get(url, params=params)\n",
    "    if response.content == error_msg:\n",
    "        print(\"Too many calls, sleep for 60 seconds\")\n",
    "        time.sleep(61)\n",
    "        return get_response(api_key, function, symbol)\n",
    "    if response.content == max_error:\n",
    "        print(\"Max calls reached\")\n",
    "        return None\n",
    "    return response\n",
    "\n",
    "\n",
    "def modify_output(symbol, response):\n",
    "    data = response.content.decode('utf-8')\n",
    "    data = data.splitlines()\n",
    "    # add symbol at the beginning of each line\n",
    "    data = [symbol + \",\" + line for line in data]\n",
    "    return data[1:]\n",
    "\n",
    "\n",
    "def save_csv(path, data):\n",
    "    with open(path, 'a', newline='') as csvfile:\n",
    "        writer = csv.writer(csvfile)\n",
    "        for row in data:\n",
    "            writer.writerow(row.split(','))\n",
    "\n",
    "\n",
    "def timestamps(api_key, function, symbol, path):\n",
    "    response = get_response(api_key, function, symbol)\n",
    "    if response is None:\n",
    "        return None\n",
    "    data = modify_output(symbol, response)\n",
    "    save_csv(path, data)\n",
    "    return \"success\""
   ],
   "metadata": {
    "collapsed": false,
    "ExecuteTime": {
     "end_time": "2023-10-17T01:19:38.444089400Z",
     "start_time": "2023-10-17T01:19:38.423765600Z"
    }
   },
   "id": "49e298559ec9cbb"
  },
  {
   "cell_type": "markdown",
   "source": [
    "# Get Time Series Daily"
   ],
   "metadata": {
    "collapsed": false
   },
   "id": "c211e0079f4ec13d"
  },
  {
   "cell_type": "code",
   "execution_count": 47,
   "outputs": [],
   "source": [
    "path = 'data/timestamps.csv'\n",
    "\n",
    "if not os.path.isfile(path):\n",
    "    # create file\n",
    "    with open(path, 'w', newline='') as csvfile:\n",
    "        writer = csv.writer(csvfile)\n",
    "        writer.writerow([\"symbol\", \"timestamp\", \"open\", \"high\", \"low\", \"close\", \"volume\"])\n",
    "    print(\"File created\")"
   ],
   "metadata": {
    "collapsed": false,
    "ExecuteTime": {
     "end_time": "2023-10-17T01:19:40.077359500Z",
     "start_time": "2023-10-17T01:19:40.071188700Z"
    }
   },
   "id": "44f7bd6fb4ecd0c0"
  },
  {
   "cell_type": "code",
   "execution_count": 48,
   "outputs": [],
   "source": [
    "calls = 100"
   ],
   "metadata": {
    "collapsed": false,
    "ExecuteTime": {
     "end_time": "2023-10-17T01:19:40.455966200Z",
     "start_time": "2023-10-17T01:19:40.447574700Z"
    }
   },
   "id": "f5dfb6da3e9633f8"
  },
  {
   "cell_type": "code",
   "execution_count": 49,
   "outputs": [],
   "source": [
    "# api_key = open(\"key\", \"r\").read()\n",
    "api_key = open(\"key_roman\", \"r\").read()\n",
    "url = 'https://www.alphavantage.co/query'\n",
    "\n",
    "function = \"TIME_SERIES_DAILY\""
   ],
   "metadata": {
    "collapsed": false,
    "ExecuteTime": {
     "end_time": "2023-10-17T01:19:40.868887Z",
     "start_time": "2023-10-17T01:19:40.860990900Z"
    }
   },
   "id": "c6f2afb28a17ee66"
  },
  {
   "cell_type": "code",
   "execution_count": 50,
   "outputs": [
    {
     "name": "stdout",
     "output_type": "stream",
     "text": [
      "Number of symbols: 260\n"
     ]
    }
   ],
   "source": [
    "df_symbols = pd.read_csv('data/listing_status.csv', delimiter=',')\n",
    "df_symbols = df_symbols[df_symbols['name'].str.contains(\"MSCI|FTSE\")]\n",
    "symbols = df_symbols[\"symbol\"].unique()\n",
    "print(\"Number of symbols: {}\".format(len(symbols)))"
   ],
   "metadata": {
    "collapsed": false,
    "ExecuteTime": {
     "end_time": "2023-10-17T01:19:41.711606600Z",
     "start_time": "2023-10-17T01:19:41.658443600Z"
    }
   },
   "id": "7c70a2f315a1d85b"
  },
  {
   "cell_type": "code",
   "execution_count": 51,
   "outputs": [
    {
     "name": "stdout",
     "output_type": "stream",
     "text": [
      "Number of symbols to do: 233\n",
      "Number of symbols done: 27\n",
      "Percentage done: 10.38%\n"
     ]
    }
   ],
   "source": [
    "df = pd.read_csv('data/timestamps.csv', delimiter=',')  # get all timestamps that are not a time format\n",
    "done_symbols = df[\"symbol\"].unique()\n",
    "todo_symbols = [s for s in symbols if s not in done_symbols]\n",
    "print(\"Number of symbols to do: {}\".format(len(todo_symbols)))\n",
    "print(\"Number of symbols done: {}\".format(len(done_symbols)))\n",
    "print(\"Percentage done: {:.2f}%\".format(len(done_symbols) / len(symbols) * 100))"
   ],
   "metadata": {
    "collapsed": false,
    "ExecuteTime": {
     "end_time": "2023-10-17T01:19:42.483965600Z",
     "start_time": "2023-10-17T01:19:42.436771900Z"
    }
   },
   "id": "c9b640d75c88f2"
  },
  {
   "cell_type": "code",
   "execution_count": 52,
   "outputs": [
    {
     "name": "stdout",
     "output_type": "stream",
     "text": [
      "Max calls reached\n",
      "Data for symbol CUT not saved\n"
     ]
    }
   ],
   "source": [
    "for symbol in todo_symbols:\n",
    "    if calls == 0:\n",
    "        break\n",
    "    data = timestamps(api_key, function, symbol, path)\n",
    "    last_symbol = symbol\n",
    "    if data == \"success\":\n",
    "        print(\"Data for symbol {} saved successfully\".format(symbol))\n",
    "        calls -= 1\n",
    "    else:\n",
    "        print(\"Data for symbol {} not saved\".format(symbol))\n",
    "        break"
   ],
   "metadata": {
    "collapsed": false,
    "ExecuteTime": {
     "end_time": "2023-10-17T01:19:44.511046500Z",
     "start_time": "2023-10-17T01:19:43.931647100Z"
    }
   },
   "id": "411ada759817e634"
  }
 ],
 "metadata": {
  "kernelspec": {
   "display_name": "Python 3",
   "language": "python",
   "name": "python3"
  },
  "language_info": {
   "codemirror_mode": {
    "name": "ipython",
    "version": 2
   },
   "file_extension": ".py",
   "mimetype": "text/x-python",
   "name": "python",
   "nbconvert_exporter": "python",
   "pygments_lexer": "ipython2",
   "version": "2.7.6"
  }
 },
 "nbformat": 4,
 "nbformat_minor": 5
}
