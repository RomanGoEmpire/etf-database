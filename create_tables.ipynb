{
 "cells": [
  {
   "cell_type": "code",
   "execution_count": 1,
   "id": "initial_id",
   "metadata": {
    "collapsed": true,
    "ExecuteTime": {
     "end_time": "2023-11-01T15:03:54.499506200Z",
     "start_time": "2023-11-01T15:03:54.404792100Z"
    }
   },
   "outputs": [],
   "source": [
    "import pandas as pd\n",
    "import numpy as np\n",
    "import random\n",
    "import math\n",
    "from faker import Faker"
   ]
  },
  {
   "cell_type": "markdown",
   "source": [
    "# Employee "
   ],
   "metadata": {
    "collapsed": false
   },
   "id": "a463572ef9d27d52"
  },
  {
   "cell_type": "code",
   "execution_count": 96,
   "outputs": [],
   "source": [
    "genders = ['male', 'female']\n",
    "female_names = ['Adelheid', 'Anneliese', 'Beatrix', 'Caroline', 'Dorothea', 'Elisabeth', 'Frieda', 'Gabriele',\n",
    "                'Heidi', 'Ingrid', 'Johanna', 'Katharina', 'Lieselotte', 'Margarete', 'Nadja', 'Olga', 'Petra',\n",
    "                'Regina', 'Sabine', 'Theresa', 'Ursula', 'Verena', 'Wilhelmina', 'Xenia', 'Yvonne', 'Zelda']\n",
    "male_names = ['Albrecht', 'Bernd', 'Carl', 'Dieter', 'Ernst', 'Friedrich', 'Gustav', 'Heinrich', 'Ingo', 'Johann',\n",
    "              'Klaus', 'Ludwig', 'Matthias', 'Niklas', 'Otto', 'Paul', 'Rainer', 'Sebastian', 'Theodor', 'Ulrich',\n",
    "              'Valentin', 'Werner', 'Xaver', 'Yannick', 'Zacharias']\n",
    "last_names = [\"Müller\", \"Schmidt\", \"Schneider\", \"Fischer\", \"Meyer\", \"Weber\", \"Wagner\", \"Becker\", \"Schulz\",\n",
    "              \"Hoffmann\", \"Schäfer\", \"Koch\", \"Bauer\", \"Richter\", \"Klein\", \"Wolf\", \"Schröder\", \"Neumann\", \"Schwarz\",\n",
    "              \"Zimmermann\"]\n",
    "email_domain = ['google.com', 'yahoo.com', 'hotmail.com', 'outlook.com', 'web.de', 'gmx.de', 'aol.com', 'mail.com',\n",
    "                't-online.de', 'freenet.de']\n",
    "streets = [\"Hauptstraße\", \"Bahnhofstraße\", \"Schulstraße\", \"Kirchstraße\", \"Gartenstraße\", \"Dorfstraße\", \"Bergstraße\",\n",
    "           \"Lindenstraße\", \"Bachstraße\", \"Feldstraße\", \"Goethestraße\", \"Schillerstraße\", \"Ringstraße\", \"Bismarckstraße\",\n",
    "           \"Bergstraße\", \"Hermannstraße\", \"Mozartstraße\", \"Schubertstraße\", \"Lerchenweg\", \"Am Sportplatz\", \"Im Winkel\",\n",
    "           \"Am Kirchplatz\", \"Am Anger\", \"Am Weinberg\", \"Goethestraße\", \"Schillerstraße\", \"Schulweg\", \"Am Wiesenhang\",\n",
    "           \"Am Mühlbach\", \"Am Mühlweg\", \"Am Weiher\", \"Am Markt\", \"Am Schloß\", \"Bergstraße\", \"Birkenweg\", \"Blumenstraße\",\n",
    "           \"Brunnenstraße\", \"Buchenweg\", \"Bürgermeisterstraße\", \"Drosselweg\", \"Eichenweg\", \"Finkenweg\", \"Fliederweg\",\n",
    "           \"Friedhofstraße\", \"Friedrichstraße\", \"Gartenstraße\", \"Goethestraße\", \"Hauptstraße\", \"Heckenweg\", \"Heideweg\",\n",
    "           \"Hermann-Löns-Weg\", \"Hindenburgstraße\", \"Hochstraße\", \"Höhenweg\", \"Im Winkel\", \"Jahnstraße\", \"Kastanienweg\",\n",
    "           \"Kirchstraße\"]\n",
    "cities = [\"Berlin\", \"Hamburg\", \"München\", \"Köln\", \"Frankfurt am Main\", \"Stuttgart\", \"Düsseldorf\", \"Dortmund\", \"Essen\"]\n"
   ],
   "metadata": {
    "collapsed": false,
    "ExecuteTime": {
     "end_time": "2023-11-01T13:01:44.050522500Z",
     "start_time": "2023-11-01T13:01:44.039805800Z"
    }
   },
   "id": "8f52990bf652bb02"
  },
  {
   "cell_type": "code",
   "execution_count": 102,
   "outputs": [],
   "source": [
    "import pandas as pd\n",
    "import numpy as np\n",
    "\n",
    "\n",
    "def fill_employee_table(num_rows):\n",
    "    employee_columns = ['id', 'first_name', 'last_name', 'birthday', 'gender', 'email', 'phone_number', 'hire_date',\n",
    "                        'role', 'salary']\n",
    "    employee_dataframe = pd.DataFrame(columns=employee_columns)\n",
    "\n",
    "    roles = ['ETF Consultant', 'ETF Specialist', 'Marketing Specialist', ]\n",
    "    roles_distribution = [0.7, 0.15, 0.15]\n",
    "\n",
    "    # Fill the dataframe with 3 consultants, 1 specialist, 1 marketing, and 1 owner\n",
    "    for i in range(num_rows):\n",
    "\n",
    "        # make 3 consultants and 1 specialist and 1 marketing and 1 owner\n",
    "        if i < 3:\n",
    "            role = 'ETF Consultant'\n",
    "        elif i == 3:\n",
    "            role = 'ETF Specialist'\n",
    "        elif i == 4:\n",
    "            role = 'Marketing Specialist'\n",
    "\n",
    "        gender = random.choice(genders)\n",
    "        if gender == 'male':\n",
    "            first_name = random.choice(male_names)\n",
    "        else:\n",
    "            first_name = random.choice(female_names)\n",
    "        last_name = random.choice(last_names)\n",
    "        birthday = Faker().date_of_birth(tzinfo=None, minimum_age=18, maximum_age=65)\n",
    "        email = first_name.lower() + '.' + last_name.lower() + '@' + random.choice(email_domain)\n",
    "        # make german phone number\n",
    "        phone_number = f'+49 {random.randint(100, 199)} {random.randint(1000000, 9999999)}'\n",
    "        hire_date = Faker().date_between(start_date='-10y', end_date='today')\n",
    "        salary = random.randint(50000, 80000)\n",
    "        # female should get less money\n",
    "        salary *= 0.8 if gender == \"female\" else 1\n",
    "        salary = math.floor(salary / 1000) * 1000  # round to 1000\n",
    "        # modify salary based on role\n",
    "        roles_salary = {'ETF Consultant': 0.8, 'ETF Specialist': 1.0, 'Marketing Specialist': 1.2,\n",
    "                        'Business Owner': 1.5}\n",
    "        salary *= roles_salary[role]\n",
    "        # Add the employee to the dataframe\n",
    "        employee_dataframe.loc[i] = [i, first_name, last_name, birthday, gender, email, phone_number, hire_date, role,\n",
    "                                     salary]\n",
    "\n",
    "    return employee_dataframe"
   ],
   "metadata": {
    "collapsed": false,
    "ExecuteTime": {
     "end_time": "2023-11-01T13:02:55.818991600Z",
     "start_time": "2023-11-01T13:02:55.801975400Z"
    }
   },
   "id": "21808d8b2966dd7e"
  },
  {
   "cell_type": "code",
   "execution_count": 104,
   "outputs": [
    {
     "data": {
      "text/plain": "   id first_name last_name    birthday  gender                         email  \\\n0   0      Heidi   Schmidt  1995-07-21  female          heidi.schmidt@web.de   \n1   1      Bernd      Koch  1999-10-29    male        bernd.koch@t-online.de   \n2   2   Valentin   Schäfer  1971-03-15    male  valentin.schäfer@outlook.com   \n3   3       Paul     Meyer  1972-08-03    male         paul.meyer@google.com   \n4   4   Caroline    Wagner  2001-07-31  female        caroline.wagner@web.de   \n\n      phone_number   hire_date                  role   salary  \n0  +49 146 5462231  2022-12-14        ETF Consultant  36000.0  \n1  +49 135 4305710  2021-10-28        ETF Consultant  60800.0  \n2  +49 163 9131587  2015-11-11        ETF Consultant  42400.0  \n3  +49 170 7234306  2022-02-16        ETF Specialist  51000.0  \n4  +49 191 4469593  2018-03-27  Marketing Specialist  61200.0  ",
      "text/html": "<div>\n<style scoped>\n    .dataframe tbody tr th:only-of-type {\n        vertical-align: middle;\n    }\n\n    .dataframe tbody tr th {\n        vertical-align: top;\n    }\n\n    .dataframe thead th {\n        text-align: right;\n    }\n</style>\n<table border=\"1\" class=\"dataframe\">\n  <thead>\n    <tr style=\"text-align: right;\">\n      <th></th>\n      <th>id</th>\n      <th>first_name</th>\n      <th>last_name</th>\n      <th>birthday</th>\n      <th>gender</th>\n      <th>email</th>\n      <th>phone_number</th>\n      <th>hire_date</th>\n      <th>role</th>\n      <th>salary</th>\n    </tr>\n  </thead>\n  <tbody>\n    <tr>\n      <th>0</th>\n      <td>0</td>\n      <td>Heidi</td>\n      <td>Schmidt</td>\n      <td>1995-07-21</td>\n      <td>female</td>\n      <td>heidi.schmidt@web.de</td>\n      <td>+49 146 5462231</td>\n      <td>2022-12-14</td>\n      <td>ETF Consultant</td>\n      <td>36000.0</td>\n    </tr>\n    <tr>\n      <th>1</th>\n      <td>1</td>\n      <td>Bernd</td>\n      <td>Koch</td>\n      <td>1999-10-29</td>\n      <td>male</td>\n      <td>bernd.koch@t-online.de</td>\n      <td>+49 135 4305710</td>\n      <td>2021-10-28</td>\n      <td>ETF Consultant</td>\n      <td>60800.0</td>\n    </tr>\n    <tr>\n      <th>2</th>\n      <td>2</td>\n      <td>Valentin</td>\n      <td>Schäfer</td>\n      <td>1971-03-15</td>\n      <td>male</td>\n      <td>valentin.schäfer@outlook.com</td>\n      <td>+49 163 9131587</td>\n      <td>2015-11-11</td>\n      <td>ETF Consultant</td>\n      <td>42400.0</td>\n    </tr>\n    <tr>\n      <th>3</th>\n      <td>3</td>\n      <td>Paul</td>\n      <td>Meyer</td>\n      <td>1972-08-03</td>\n      <td>male</td>\n      <td>paul.meyer@google.com</td>\n      <td>+49 170 7234306</td>\n      <td>2022-02-16</td>\n      <td>ETF Specialist</td>\n      <td>51000.0</td>\n    </tr>\n    <tr>\n      <th>4</th>\n      <td>4</td>\n      <td>Caroline</td>\n      <td>Wagner</td>\n      <td>2001-07-31</td>\n      <td>female</td>\n      <td>caroline.wagner@web.de</td>\n      <td>+49 191 4469593</td>\n      <td>2018-03-27</td>\n      <td>Marketing Specialist</td>\n      <td>61200.0</td>\n    </tr>\n  </tbody>\n</table>\n</div>"
     },
     "execution_count": 104,
     "metadata": {},
     "output_type": "execute_result"
    }
   ],
   "source": [
    "employee_dataframe = fill_employee_table(5)\n",
    "employee_dataframe"
   ],
   "metadata": {
    "collapsed": false,
    "ExecuteTime": {
     "end_time": "2023-11-01T13:06:41.738940800Z",
     "start_time": "2023-11-01T13:06:41.363691700Z"
    }
   },
   "id": "d3c0f63e9df9d450"
  },
  {
   "cell_type": "markdown",
   "source": [
    "# Customer"
   ],
   "metadata": {
    "collapsed": false
   },
   "id": "e6b255563759e8fd"
  },
  {
   "cell_type": "code",
   "execution_count": 105,
   "outputs": [],
   "source": [
    "phone_prefix = {\n",
    "    'Albania': '+355',\n",
    "    'Andorra': '+376',\n",
    "    'Austria': '+43',\n",
    "    'Belarus': '+375',\n",
    "    'Belgium': '+32',\n",
    "    'Bosnia and Herzegovina': '+387',\n",
    "    'Bulgaria': '+359',\n",
    "    'Croatia': '+385',\n",
    "    'Cyprus': '+357',\n",
    "    'Czechia': '+420',\n",
    "    'Denmark': '+45',\n",
    "    'Estonia': '+372',\n",
    "    'Finland': '+358',\n",
    "    'France': '+33',\n",
    "    'Germany': '+49',\n",
    "    'Greece': '+30',\n",
    "    'Hungary': '+36',\n",
    "    'Iceland': '+354',\n",
    "    'Ireland': '+353',\n",
    "    'Italy': '+39',\n",
    "    'Kosovo': '+383',\n",
    "    'Latvia': '+371',\n",
    "    'Liechtenstein': '+423',\n",
    "    'Lithuania': '+370',\n",
    "    'Luxembourg': '+352',\n",
    "    'Malta': '+356',\n",
    "    'Moldova': '+373',\n",
    "    'Monaco': '+377',\n",
    "    'Montenegro': '+382',\n",
    "    'Netherlands': '+31',\n",
    "    'North Macedonia': '+389',\n",
    "    'Norway': '+47',\n",
    "    'Poland': '+48',\n",
    "    'Portugal': '+351',\n",
    "    'Romania': '+40',\n",
    "    'Russia': '+7',\n",
    "    'San Marino': '+378',\n",
    "    'Serbia': '+381',\n",
    "    'Slovakia': '+421',\n",
    "    'Slovenia': '+386',\n",
    "    'Spain': '+34',\n",
    "    'Sweden': '+46',\n",
    "    'Switzerland': '+41',\n",
    "    'Ukraine': '+380',\n",
    "    'United Kingdom': '+44',\n",
    "    'Vatican City': '+379'\n",
    "}"
   ],
   "metadata": {
    "collapsed": false,
    "ExecuteTime": {
     "end_time": "2023-11-01T13:07:07.410639Z",
     "start_time": "2023-11-01T13:07:07.410128300Z"
    }
   },
   "id": "8ba6882366d96abd"
  },
  {
   "cell_type": "code",
   "execution_count": 106,
   "outputs": [],
   "source": [
    "def fill_client_tables(num_rows):\n",
    "    faker = Faker()\n",
    "    client_columns = ['id', 'first_name', 'last_name', 'birthday', 'gender', 'adress', 'country', 'email',\n",
    "                      'phone_number']\n",
    "    client_dataframe = pd.DataFrame(columns=client_columns)\n",
    "\n",
    "    for i in range(num_rows):\n",
    "        gender = random.choice(genders)\n",
    "        if gender == 'male':\n",
    "            first_name = faker.first_name_male()\n",
    "        else:\n",
    "            first_name = faker.first_name_female()\n",
    "        last_name = faker.last_name()\n",
    "        birthday = faker.date_of_birth(tzinfo=None, minimum_age=18, maximum_age=65)\n",
    "        adress = faker.street_address()\n",
    "        country = random.choice(list(phone_prefix.keys()))\n",
    "        email = first_name.lower() + '.' + last_name.lower() + '@' + random.choice(email_domain)\n",
    "        phone_number = phone_prefix[country] + ' ' + str(random.randint(100, 199)) + ' ' + str(\n",
    "            random.randint(1000000, 9999999))\n",
    "\n",
    "        client_dataframe.loc[i] = [i, first_name, last_name, birthday, gender, adress, country, email,\n",
    "                                   phone_number]\n",
    "    return client_dataframe"
   ],
   "metadata": {
    "collapsed": false,
    "ExecuteTime": {
     "end_time": "2023-11-01T13:07:08.263281200Z",
     "start_time": "2023-11-01T13:07:08.247154200Z"
    }
   },
   "id": "7d64bccf3fe8b4e6"
  },
  {
   "cell_type": "code",
   "execution_count": 108,
   "outputs": [
    {
     "data": {
      "text/plain": "        id first_name last_name    birthday  gender  \\\n0        0    Melinda    Robles  1966-05-22  female   \n1        1    Brandon     Jones  1969-01-26    male   \n2        2       Anne     Baird  1994-06-09  female   \n3        3       Tina     Rocha  1985-02-02  female   \n4        4      Megan    Miller  1974-12-01  female   \n...    ...        ...       ...         ...     ...   \n6995  6995      James   Ramirez  1960-06-28    male   \n6996  6996      Jenna        Le  1992-02-02  female   \n6997  6997       John   Bennett  1989-04-07    male   \n6998  6998       Jodi     Perez  2003-02-03  female   \n6999  6999      Tammy     Gomez  1987-03-15  female   \n\n                              adress                 country  \\\n0       758 King Mountains Suite 495  Bosnia and Herzegovina   \n1                   225 Wilson Curve               Lithuania   \n2         6810 Brianna Loaf Apt. 408                  France   \n3        3268 Lewis Points Suite 985                  Serbia   \n4                  065 Powell Shoals                  Cyprus   \n...                              ...                     ...   \n6995        020 William Dam Apt. 118                   Italy   \n6996   410 Robertson Glens Suite 571                 Romania   \n6997              938 Jimenez Street           Liechtenstein   \n6998  2744 Mcdonald Harbors Apt. 525                  Latvia   \n6999    87049 Sydney Meadow Apt. 949                 Germany   \n\n                          email      phone_number  \n0     melinda.robles@freenet.de  +387 104 9788376  \n1      brandon.jones@google.com  +370 174 8213328  \n2         anne.baird@google.com   +33 183 1728414  \n3        tina.rocha@outlook.com  +381 156 7817956  \n4      megan.miller@outlook.com  +357 140 5065362  \n...                         ...               ...  \n6995  james.ramirez@outlook.com   +39 175 5901835  \n6996       jenna.le@outlook.com   +40 131 4946608  \n6997   john.bennett@hotmail.com  +423 184 6581688  \n6998     jodi.perez@outlook.com  +371 169 2289326  \n6999        tammy.gomez@aol.com   +49 106 4849682  \n\n[7000 rows x 9 columns]",
      "text/html": "<div>\n<style scoped>\n    .dataframe tbody tr th:only-of-type {\n        vertical-align: middle;\n    }\n\n    .dataframe tbody tr th {\n        vertical-align: top;\n    }\n\n    .dataframe thead th {\n        text-align: right;\n    }\n</style>\n<table border=\"1\" class=\"dataframe\">\n  <thead>\n    <tr style=\"text-align: right;\">\n      <th></th>\n      <th>id</th>\n      <th>first_name</th>\n      <th>last_name</th>\n      <th>birthday</th>\n      <th>gender</th>\n      <th>adress</th>\n      <th>country</th>\n      <th>email</th>\n      <th>phone_number</th>\n    </tr>\n  </thead>\n  <tbody>\n    <tr>\n      <th>0</th>\n      <td>0</td>\n      <td>Melinda</td>\n      <td>Robles</td>\n      <td>1966-05-22</td>\n      <td>female</td>\n      <td>758 King Mountains Suite 495</td>\n      <td>Bosnia and Herzegovina</td>\n      <td>melinda.robles@freenet.de</td>\n      <td>+387 104 9788376</td>\n    </tr>\n    <tr>\n      <th>1</th>\n      <td>1</td>\n      <td>Brandon</td>\n      <td>Jones</td>\n      <td>1969-01-26</td>\n      <td>male</td>\n      <td>225 Wilson Curve</td>\n      <td>Lithuania</td>\n      <td>brandon.jones@google.com</td>\n      <td>+370 174 8213328</td>\n    </tr>\n    <tr>\n      <th>2</th>\n      <td>2</td>\n      <td>Anne</td>\n      <td>Baird</td>\n      <td>1994-06-09</td>\n      <td>female</td>\n      <td>6810 Brianna Loaf Apt. 408</td>\n      <td>France</td>\n      <td>anne.baird@google.com</td>\n      <td>+33 183 1728414</td>\n    </tr>\n    <tr>\n      <th>3</th>\n      <td>3</td>\n      <td>Tina</td>\n      <td>Rocha</td>\n      <td>1985-02-02</td>\n      <td>female</td>\n      <td>3268 Lewis Points Suite 985</td>\n      <td>Serbia</td>\n      <td>tina.rocha@outlook.com</td>\n      <td>+381 156 7817956</td>\n    </tr>\n    <tr>\n      <th>4</th>\n      <td>4</td>\n      <td>Megan</td>\n      <td>Miller</td>\n      <td>1974-12-01</td>\n      <td>female</td>\n      <td>065 Powell Shoals</td>\n      <td>Cyprus</td>\n      <td>megan.miller@outlook.com</td>\n      <td>+357 140 5065362</td>\n    </tr>\n    <tr>\n      <th>...</th>\n      <td>...</td>\n      <td>...</td>\n      <td>...</td>\n      <td>...</td>\n      <td>...</td>\n      <td>...</td>\n      <td>...</td>\n      <td>...</td>\n      <td>...</td>\n    </tr>\n    <tr>\n      <th>6995</th>\n      <td>6995</td>\n      <td>James</td>\n      <td>Ramirez</td>\n      <td>1960-06-28</td>\n      <td>male</td>\n      <td>020 William Dam Apt. 118</td>\n      <td>Italy</td>\n      <td>james.ramirez@outlook.com</td>\n      <td>+39 175 5901835</td>\n    </tr>\n    <tr>\n      <th>6996</th>\n      <td>6996</td>\n      <td>Jenna</td>\n      <td>Le</td>\n      <td>1992-02-02</td>\n      <td>female</td>\n      <td>410 Robertson Glens Suite 571</td>\n      <td>Romania</td>\n      <td>jenna.le@outlook.com</td>\n      <td>+40 131 4946608</td>\n    </tr>\n    <tr>\n      <th>6997</th>\n      <td>6997</td>\n      <td>John</td>\n      <td>Bennett</td>\n      <td>1989-04-07</td>\n      <td>male</td>\n      <td>938 Jimenez Street</td>\n      <td>Liechtenstein</td>\n      <td>john.bennett@hotmail.com</td>\n      <td>+423 184 6581688</td>\n    </tr>\n    <tr>\n      <th>6998</th>\n      <td>6998</td>\n      <td>Jodi</td>\n      <td>Perez</td>\n      <td>2003-02-03</td>\n      <td>female</td>\n      <td>2744 Mcdonald Harbors Apt. 525</td>\n      <td>Latvia</td>\n      <td>jodi.perez@outlook.com</td>\n      <td>+371 169 2289326</td>\n    </tr>\n    <tr>\n      <th>6999</th>\n      <td>6999</td>\n      <td>Tammy</td>\n      <td>Gomez</td>\n      <td>1987-03-15</td>\n      <td>female</td>\n      <td>87049 Sydney Meadow Apt. 949</td>\n      <td>Germany</td>\n      <td>tammy.gomez@aol.com</td>\n      <td>+49 106 4849682</td>\n    </tr>\n  </tbody>\n</table>\n<p>7000 rows × 9 columns</p>\n</div>"
     },
     "execution_count": 108,
     "metadata": {},
     "output_type": "execute_result"
    }
   ],
   "source": [
    "client_dataframe = fill_client_tables(7000)\n",
    "client_dataframe"
   ],
   "metadata": {
    "collapsed": false,
    "ExecuteTime": {
     "end_time": "2023-11-01T13:07:34.334654Z",
     "start_time": "2023-11-01T13:07:27.668433100Z"
    }
   },
   "id": "a733184a96b0d36d"
  },
  {
   "cell_type": "markdown",
   "source": [
    "\n",
    "# Consulation"
   ],
   "metadata": {
    "collapsed": false
   },
   "id": "4fbc7558dd7564b"
  },
  {
   "cell_type": "code",
   "execution_count": 159,
   "outputs": [],
   "source": [
    "# get all employee ids that are consultants\n",
    "employee_id = employee_dataframe[employee_dataframe['role'] == 'ETF Consultant']['id'].to_list()\n",
    "client_length = len(client_dataframe)\n",
    "\n",
    "costs ={1:100, 2:190, 3:270, 4:340, 5:400}\n",
    "\n",
    "def fill_consultion_table(num_rows):\n",
    "    df_columns = ['id', 'employee_id', 'client_id', 'date', 'duration', 'cost']\n",
    "    df = pd.DataFrame(columns=df_columns)\n",
    "\n",
    "    for i in range(num_rows):\n",
    "        employee = np.random.choice(employee_id)\n",
    "        client = random.randint(0, client_length - 1)\n",
    "        date = Faker().date_between(start_date='-5y', end_date='today')\n",
    "        # duration and cost are correlated\n",
    "        duration = random.randint(1, 4)\n",
    "        # make longer consultations have a discount if longer than 1 hour\n",
    "        cost = costs[duration]\n",
    "        df.loc[i] = [i, employee, client, date, duration, cost]\n",
    "    return df"
   ],
   "metadata": {
    "collapsed": false,
    "ExecuteTime": {
     "end_time": "2023-11-01T13:51:56.942920500Z",
     "start_time": "2023-11-01T13:51:56.926931100Z"
    }
   },
   "id": "685b48efe6101a05"
  },
  {
   "cell_type": "code",
   "execution_count": 160,
   "outputs": [
    {
     "data": {
      "text/plain": "        id  employee_id  client_id        date  duration  cost\n0        0            1         26  2019-03-01         1   100\n1        1            0       4822  2020-10-07         1   100\n2        2            1       3586  2022-06-12         3   270\n3        3            0       3345  2019-11-07         3   270\n4        4            1       2666  2021-08-24         3   270\n...    ...          ...        ...         ...       ...   ...\n9995  9995            1       6817  2021-01-11         4   340\n9996  9996            0       3699  2021-11-21         2   190\n9997  9997            1       1687  2021-12-19         3   270\n9998  9998            0       1189  2019-08-15         2   190\n9999  9999            2       6987  2022-12-16         2   190\n\n[10000 rows x 6 columns]",
      "text/html": "<div>\n<style scoped>\n    .dataframe tbody tr th:only-of-type {\n        vertical-align: middle;\n    }\n\n    .dataframe tbody tr th {\n        vertical-align: top;\n    }\n\n    .dataframe thead th {\n        text-align: right;\n    }\n</style>\n<table border=\"1\" class=\"dataframe\">\n  <thead>\n    <tr style=\"text-align: right;\">\n      <th></th>\n      <th>id</th>\n      <th>employee_id</th>\n      <th>client_id</th>\n      <th>date</th>\n      <th>duration</th>\n      <th>cost</th>\n    </tr>\n  </thead>\n  <tbody>\n    <tr>\n      <th>0</th>\n      <td>0</td>\n      <td>1</td>\n      <td>26</td>\n      <td>2019-03-01</td>\n      <td>1</td>\n      <td>100</td>\n    </tr>\n    <tr>\n      <th>1</th>\n      <td>1</td>\n      <td>0</td>\n      <td>4822</td>\n      <td>2020-10-07</td>\n      <td>1</td>\n      <td>100</td>\n    </tr>\n    <tr>\n      <th>2</th>\n      <td>2</td>\n      <td>1</td>\n      <td>3586</td>\n      <td>2022-06-12</td>\n      <td>3</td>\n      <td>270</td>\n    </tr>\n    <tr>\n      <th>3</th>\n      <td>3</td>\n      <td>0</td>\n      <td>3345</td>\n      <td>2019-11-07</td>\n      <td>3</td>\n      <td>270</td>\n    </tr>\n    <tr>\n      <th>4</th>\n      <td>4</td>\n      <td>1</td>\n      <td>2666</td>\n      <td>2021-08-24</td>\n      <td>3</td>\n      <td>270</td>\n    </tr>\n    <tr>\n      <th>...</th>\n      <td>...</td>\n      <td>...</td>\n      <td>...</td>\n      <td>...</td>\n      <td>...</td>\n      <td>...</td>\n    </tr>\n    <tr>\n      <th>9995</th>\n      <td>9995</td>\n      <td>1</td>\n      <td>6817</td>\n      <td>2021-01-11</td>\n      <td>4</td>\n      <td>340</td>\n    </tr>\n    <tr>\n      <th>9996</th>\n      <td>9996</td>\n      <td>0</td>\n      <td>3699</td>\n      <td>2021-11-21</td>\n      <td>2</td>\n      <td>190</td>\n    </tr>\n    <tr>\n      <th>9997</th>\n      <td>9997</td>\n      <td>1</td>\n      <td>1687</td>\n      <td>2021-12-19</td>\n      <td>3</td>\n      <td>270</td>\n    </tr>\n    <tr>\n      <th>9998</th>\n      <td>9998</td>\n      <td>0</td>\n      <td>1189</td>\n      <td>2019-08-15</td>\n      <td>2</td>\n      <td>190</td>\n    </tr>\n    <tr>\n      <th>9999</th>\n      <td>9999</td>\n      <td>2</td>\n      <td>6987</td>\n      <td>2022-12-16</td>\n      <td>2</td>\n      <td>190</td>\n    </tr>\n  </tbody>\n</table>\n<p>10000 rows × 6 columns</p>\n</div>"
     },
     "execution_count": 160,
     "metadata": {},
     "output_type": "execute_result"
    }
   ],
   "source": [
    "consultation_dataframe = fill_consultion_table(10000)\n",
    "consultation_dataframe"
   ],
   "metadata": {
    "collapsed": false,
    "ExecuteTime": {
     "end_time": "2023-11-01T13:58:09.912815Z",
     "start_time": "2023-11-01T13:51:57.227741800Z"
    }
   },
   "id": "910fa27eed833d6f"
  },
  {
   "cell_type": "code",
   "execution_count": 161,
   "outputs": [
    {
     "data": {
      "text/plain": "date\n2018-10-31    1890\n2018-11-01    1820\n2018-11-02     930\n2018-11-03     770\n2018-11-04    1180\n              ... \n2023-10-27    1460\n2023-10-28    1790\n2023-10-29    1530\n2023-10-30    1780\n2023-10-31    1100\nName: cost, Length: 1820, dtype: int64"
     },
     "execution_count": 161,
     "metadata": {},
     "output_type": "execute_result"
    }
   ],
   "source": [
    "# get cost per month but the date is in "
   ],
   "metadata": {
    "collapsed": false,
    "ExecuteTime": {
     "end_time": "2023-11-01T13:58:48.039462500Z",
     "start_time": "2023-11-01T13:58:48.023961100Z"
    }
   },
   "id": "b40a4782416a8d6a"
  },
  {
   "cell_type": "markdown",
   "source": [
    "# Transaction"
   ],
   "metadata": {
    "collapsed": false
   },
   "id": "75987429e74b6f95"
  },
  {
   "cell_type": "code",
   "execution_count": 162,
   "outputs": [
    {
     "data": {
      "text/plain": "['AAXJ',\n 'ACWI',\n 'ACWV',\n 'ACWX',\n 'AFTY',\n 'ANEW',\n 'ARGT',\n 'ASEA',\n 'ASHX',\n 'BBRE',\n 'BKF',\n 'BRZU',\n 'BZQ',\n 'CHIC',\n 'CHIE',\n 'CHIH',\n 'CHII',\n 'CHIK',\n 'CHIM',\n 'CHIQ',\n 'CHIR',\n 'CHIS',\n 'CHIU',\n 'CHIX',\n 'CN',\n 'CNYA',\n 'CRBN',\n 'CUT',\n 'CWI',\n 'DBAW',\n 'DBEF',\n 'DBEM',\n 'DBEU',\n 'DBEZ',\n 'DBGR',\n 'DBJP',\n 'DEEF',\n 'DMXF',\n 'DPK',\n 'DSI',\n 'EASG',\n 'ECH',\n 'ECNS',\n 'EDEN',\n 'EDZ',\n 'EEM',\n 'EEMA',\n 'EEMS',\n 'EEMV',\n 'EEMX',\n 'EET',\n 'EEV',\n 'EFA',\n 'EFAD',\n 'EFAS',\n 'EFAV',\n 'EFAX',\n 'EFG',\n 'EFNL',\n 'EFO',\n 'EFU',\n 'EFV',\n 'EFZ',\n 'EGUS',\n 'EIDO',\n 'EIRL',\n 'EIS',\n 'EMDV',\n 'EMFM',\n 'EMSG',\n 'EMXC',\n 'EMXF',\n 'ENOR',\n 'ENZL',\n 'EPHE',\n 'EPOL',\n 'EPP',\n 'EPU',\n 'EPV',\n 'ERTH',\n 'ESGD',\n 'ESGE',\n 'ESGU',\n 'ESML',\n 'ESMV',\n 'EUDV',\n 'EUFN',\n 'EUM',\n 'EURL',\n 'EUSA',\n 'EVUS',\n 'EWA',\n 'EWC',\n 'EWD',\n 'EWG',\n 'EWGS',\n 'EWH',\n 'EWI',\n 'EWJ',\n 'EWJV',\n 'EWK',\n 'EWL',\n 'EWM',\n 'EWN',\n 'EWO',\n 'EWP',\n 'EWQ',\n 'EWS',\n 'EWT',\n 'EWU',\n 'EWUS',\n 'EWV',\n 'EWW',\n 'EWY',\n 'EWZ',\n 'EWZS',\n 'EZA',\n 'EZJ',\n 'EZU',\n 'FCOM',\n 'FDIS',\n 'FENY',\n 'FHLC',\n 'FIDU',\n 'FILL',\n 'FLAU',\n 'FLAX',\n 'FLBR',\n 'FLCA',\n 'FLCH',\n 'FLEE',\n 'FLEU',\n 'FLFR',\n 'FLGB',\n 'FLGR',\n 'FLHK',\n 'FLIN',\n 'FLIY',\n 'FLJH',\n 'FLJP',\n 'FLKR',\n 'FLLA',\n 'FLMX',\n 'FLSA',\n 'FLSW',\n 'FLTW',\n 'FLZA',\n 'FMAT',\n 'FNCL',\n 'FREL',\n 'FSTA',\n 'FTEC',\n 'FUTY',\n 'FXP',\n 'GBLD',\n 'GREK',\n 'GXG',\n 'HAWX',\n 'HDAW',\n 'HDEF',\n 'HEEM',\n 'HEFA',\n 'HEWC',\n 'HEWG',\n 'HEWJ',\n 'HEWU',\n 'HEZU',\n 'HFXI',\n 'HLAL',\n 'HSCZ',\n 'IDEV',\n 'IEFA',\n 'IEMG',\n 'IEUR',\n 'IEUS',\n 'IMTM',\n 'INDA',\n 'INDL',\n 'IPAC',\n 'IQLT',\n 'ISZE',\n 'IVLU',\n 'IWTR',\n 'IXUS',\n 'KALL',\n 'KBA',\n 'KEMX',\n 'KGRN',\n 'KOKU',\n 'KSA',\n 'KURE',\n 'KWT',\n 'LDEM',\n 'MCHI',\n 'MEXX',\n 'MSCI',\n 'MTUM',\n 'NGE',\n 'NORW',\n 'NZAC',\n 'NZUS',\n 'OBOR',\n 'PABU',\n 'PAK',\n 'PBUS',\n 'PDN',\n 'PGAL',\n 'PICK',\n 'PRF',\n 'PRFZ',\n 'PXF',\n 'PXH',\n 'QAT',\n 'QEFA',\n 'QEMM',\n 'QUAL',\n 'QUS',\n 'QWLD',\n 'RING',\n 'SCJ',\n 'SCZ',\n 'SDEM',\n 'SDG',\n 'SHE',\n 'SIZE',\n 'SLVP',\n 'SMIN',\n 'SMMV',\n 'SPGM',\n 'SUSA',\n 'SUSL',\n 'TCHI',\n 'THD',\n 'TOK',\n 'TUR',\n 'UAE',\n 'UBR',\n 'UEVM',\n 'UIVM',\n 'ULVM',\n 'UPV',\n 'URTH',\n 'USCA',\n 'USCL',\n 'USMV',\n 'USSG',\n 'USVM',\n 'USXF',\n 'VEA',\n 'VEGI',\n 'VEU',\n 'VGK',\n 'VLUE',\n 'VMAT',\n 'VNAM',\n 'VPL',\n 'VSS',\n 'VWO',\n 'XPP',\n 'YANG',\n 'YINN',\n 'YXI']"
     },
     "execution_count": 162,
     "metadata": {},
     "output_type": "execute_result"
    }
   ],
   "source": [
    "df_symbols = pd.read_csv('data/listing_status_etf.csv', sep=';')\n",
    "symbols = df_symbols['symbol'].to_list()\n",
    "symbols"
   ],
   "metadata": {
    "collapsed": false,
    "ExecuteTime": {
     "end_time": "2023-11-01T14:07:49.387174Z",
     "start_time": "2023-11-01T14:07:49.373137500Z"
    }
   },
   "id": "327e6b5ad0affb50"
  },
  {
   "cell_type": "code",
   "execution_count": 163,
   "outputs": [
    {
     "data": {
      "text/plain": "<Axes: ylabel='Count'>"
     },
     "execution_count": 163,
     "metadata": {},
     "output_type": "execute_result"
    },
    {
     "data": {
      "text/plain": "<Figure size 640x480 with 1 Axes>",
      "image/png": "[encoded data removed]"
     },
     "metadata": {},
     "output_type": "display_data"
    }
   ],
   "source": [
    "import numpy as np\n",
    "\n",
    "\n",
    "def generate_amount():\n",
    "    n = 100\n",
    "    # Generate log-normal distribution with mean 6 and standard deviation 1.5\n",
    "    values = np.random.lognormal(7, 1.5, n)\n",
    "    # Set minimum value to 0\n",
    "    values = np.maximum(values, 0)\n",
    "    # Add outliers up to 100000\n",
    "    outliers = np.random.randint(100000, size=1)\n",
    "    values = np.concatenate((values, outliers))\n",
    "    # Shuffle the values\n",
    "    np.random.shuffle(values)\n",
    "    return int(values[0])\n",
    "\n",
    "\n",
    "values = []\n",
    "for i in range(100000):\n",
    "    values.append(generate_amount())\n",
    "\n",
    "import seaborn as sns\n",
    "\n",
    "# Plot the values using seaborn\n",
    "sns.set_style(\"whitegrid\")\n",
    "sns.histplot(values, bins=100, kde=True, log_scale=True)"
   ],
   "metadata": {
    "collapsed": false,
    "ExecuteTime": {
     "end_time": "2023-11-01T14:07:53.397579800Z",
     "start_time": "2023-11-01T14:07:50.063109900Z"
    }
   },
   "id": "812fd9342caab380"
  },
  {
   "cell_type": "code",
   "execution_count": 164,
   "outputs": [],
   "source": [
    "# distribution of transaction types (buy, sell)\n",
    "transaction_types = ['buy', 'sell']\n",
    "transaction_types_distribution = [0.8, 0.2]\n",
    "# distribution of (yearly,quarterly,monthly)\n",
    "transaction_frequency = ['yearly', 'quarterly', 'monthly']\n",
    "transaction_frequency_distribution = [0.1, 0.3, 0.6]\n",
    "\n",
    "# how many etfs each client has\n",
    "etf_per_client = [1, 2, 3, 4, 5]\n",
    "etf_per_client_distribution = [0.1, 0.2, 0.3, 0.2, 0.2]\n",
    "\n",
    "client_length = 100\n",
    "\n",
    "client_etfs = {}\n",
    "for client in range(client_length):\n",
    "    etfs = []\n",
    "    for i in range(np.random.choice(etf_per_client, p=etf_per_client_distribution)):\n",
    "        symbol = random.choice(symbols)\n",
    "        frequency = np.random.choice(transaction_frequency, p=transaction_frequency_distribution)\n",
    "        # random amount between 100 and 100000 that follows a distribution that is skewed to the left\n",
    "        amount = generate_amount()\n",
    "\n",
    "        # split the amount by 3 if the frequency is quarterly by 12 if the frequency is monthly \n",
    "        if frequency == 'quarterly':\n",
    "            amount /= 3\n",
    "        elif frequency == 'monthly':\n",
    "            amount /= 12\n",
    "        amount = math.ceil(amount / 100) * 100  # round to 100\n",
    "\n",
    "        etfs.append((symbol, amount, frequency))\n",
    "    client_etfs[client] = etfs\n",
    "\n",
    "\n",
    "def fill_transaction_table(num_clients):\n",
    "    df_columns = ['id', 'client_id', 'etf_id', 'date', 'type', 'amount', 'frequency']\n",
    "    df = pd.DataFrame(columns=df_columns)\n",
    "\n",
    "    index = 0\n",
    "    for client in range(num_clients):\n",
    "        etfs = client_etfs[client]\n",
    "        starting_date = Faker().date_between(start_date='-5y', end_date='today')\n",
    "        etf_balance = {etf[0]: 0 for etf in etfs}\n",
    "        for etf in etfs:\n",
    "            # how many days there are between the starting date and today\n",
    "            days = (pd.Timestamp.today() - pd.Timestamp(starting_date)).days\n",
    "            # how many transactions there where until today\n",
    "            frequency = etf[2]\n",
    "\n",
    "            # calculate how many transactions there where\n",
    "            if frequency == 'yearly':\n",
    "                transactions = days // 365 + 1\n",
    "            elif frequency == 'quarterly':\n",
    "                transactions = days // 90 + 1\n",
    "            elif frequency == 'monthly':\n",
    "                transactions = days // 30 + 1\n",
    "            else:\n",
    "                raise Exception('Frequency not supported')\n",
    "\n",
    "            # make sure there is at least one transaction\n",
    "            transactions = max(1, transactions)\n",
    "            for transaction in range(transactions):\n",
    "                # get the date of the transaction based on the frequency and the starting date\n",
    "                date = starting_date + pd.DateOffset(years=transaction) if frequency == 'yearly' else \\\n",
    "                    starting_date + pd.DateOffset(months=transaction) if frequency == 'monthly' else \\\n",
    "                        starting_date + pd.DateOffset(months=3 * transaction)\n",
    "                # get the type of the transaction\n",
    "                transaction_type = np.random.choice(transaction_types, p=transaction_types_distribution)\n",
    "                if etf_balance[etf[0]] == 0:\n",
    "                    transaction_type = 'buy'\n",
    "\n",
    "                amount = random.randint(1, etf_balance[etf[0]] // 10) if transaction_type == 'sell' else etf[1]\n",
    "                # update the balance\n",
    "                etf_balance[etf[0]] += amount if transaction_type == 'buy' else -amount\n",
    "\n",
    "                df.loc[index] = [index, client, etf[0], date, transaction_type, amount, frequency]\n",
    "\n",
    "                index += 1\n",
    "    return df"
   ],
   "metadata": {
    "collapsed": false,
    "ExecuteTime": {
     "end_time": "2023-11-01T14:07:53.478308900Z",
     "start_time": "2023-11-01T14:07:53.403179700Z"
    }
   },
   "id": "4d3ea8c6880b0387"
  },
  {
   "cell_type": "code",
   "execution_count": 165,
   "outputs": [
    {
     "data": {
      "text/plain": "        id  client_id etf_id       date  type  amount  frequency\n0        0          0   SIZE 2021-12-25   buy     400    monthly\n1        1          0   SIZE 2022-01-25   buy     400    monthly\n2        2          0   SIZE 2022-02-25  sell      25    monthly\n3        3          0   SIZE 2022-03-25   buy     400    monthly\n4        4          0   SIZE 2022-04-25   buy     400    monthly\n...    ...        ...    ...        ...   ...     ...        ...\n6851  6851         99   DBEU 2023-08-05   buy     300    monthly\n6852  6852         99   DBEU 2023-09-05   buy     300    monthly\n6853  6853         99   DBEU 2023-10-05   buy     300    monthly\n6854  6854         99    FXP 2023-08-05   buy     200     yearly\n6855  6855         99   SUSL 2023-08-05   buy     100  quarterly\n\n[6856 rows x 7 columns]",
      "text/html": "<div>\n<style scoped>\n    .dataframe tbody tr th:only-of-type {\n        vertical-align: middle;\n    }\n\n    .dataframe tbody tr th {\n        vertical-align: top;\n    }\n\n    .dataframe thead th {\n        text-align: right;\n    }\n</style>\n<table border=\"1\" class=\"dataframe\">\n  <thead>\n    <tr style=\"text-align: right;\">\n      <th></th>\n      <th>id</th>\n      <th>client_id</th>\n      <th>etf_id</th>\n      <th>date</th>\n      <th>type</th>\n      <th>amount</th>\n      <th>frequency</th>\n    </tr>\n  </thead>\n  <tbody>\n    <tr>\n      <th>0</th>\n      <td>0</td>\n      <td>0</td>\n      <td>SIZE</td>\n      <td>2021-12-25</td>\n      <td>buy</td>\n      <td>400</td>\n      <td>monthly</td>\n    </tr>\n    <tr>\n      <th>1</th>\n      <td>1</td>\n      <td>0</td>\n      <td>SIZE</td>\n      <td>2022-01-25</td>\n      <td>buy</td>\n      <td>400</td>\n      <td>monthly</td>\n    </tr>\n    <tr>\n      <th>2</th>\n      <td>2</td>\n      <td>0</td>\n      <td>SIZE</td>\n      <td>2022-02-25</td>\n      <td>sell</td>\n      <td>25</td>\n      <td>monthly</td>\n    </tr>\n    <tr>\n      <th>3</th>\n      <td>3</td>\n      <td>0</td>\n      <td>SIZE</td>\n      <td>2022-03-25</td>\n      <td>buy</td>\n      <td>400</td>\n      <td>monthly</td>\n    </tr>\n    <tr>\n      <th>4</th>\n      <td>4</td>\n      <td>0</td>\n      <td>SIZE</td>\n      <td>2022-04-25</td>\n      <td>buy</td>\n      <td>400</td>\n      <td>monthly</td>\n    </tr>\n    <tr>\n      <th>...</th>\n      <td>...</td>\n      <td>...</td>\n      <td>...</td>\n      <td>...</td>\n      <td>...</td>\n      <td>...</td>\n      <td>...</td>\n    </tr>\n    <tr>\n      <th>6851</th>\n      <td>6851</td>\n      <td>99</td>\n      <td>DBEU</td>\n      <td>2023-08-05</td>\n      <td>buy</td>\n      <td>300</td>\n      <td>monthly</td>\n    </tr>\n    <tr>\n      <th>6852</th>\n      <td>6852</td>\n      <td>99</td>\n      <td>DBEU</td>\n      <td>2023-09-05</td>\n      <td>buy</td>\n      <td>300</td>\n      <td>monthly</td>\n    </tr>\n    <tr>\n      <th>6853</th>\n      <td>6853</td>\n      <td>99</td>\n      <td>DBEU</td>\n      <td>2023-10-05</td>\n      <td>buy</td>\n      <td>300</td>\n      <td>monthly</td>\n    </tr>\n    <tr>\n      <th>6854</th>\n      <td>6854</td>\n      <td>99</td>\n      <td>FXP</td>\n      <td>2023-08-05</td>\n      <td>buy</td>\n      <td>200</td>\n      <td>yearly</td>\n    </tr>\n    <tr>\n      <th>6855</th>\n      <td>6855</td>\n      <td>99</td>\n      <td>SUSL</td>\n      <td>2023-08-05</td>\n      <td>buy</td>\n      <td>100</td>\n      <td>quarterly</td>\n    </tr>\n  </tbody>\n</table>\n<p>6856 rows × 7 columns</p>\n</div>"
     },
     "execution_count": 165,
     "metadata": {},
     "output_type": "execute_result"
    }
   ],
   "source": [
    "transactions = fill_transaction_table(client_length)\n",
    "transactions"
   ],
   "metadata": {
    "collapsed": false,
    "ExecuteTime": {
     "end_time": "2023-11-01T14:08:03.564642800Z",
     "start_time": "2023-11-01T14:07:53.426230500Z"
    }
   },
   "id": "47ecbad6e315f4bd"
  },
  {
   "cell_type": "code",
   "execution_count": 168,
   "outputs": [
    {
     "name": "stdout",
     "output_type": "stream",
     "text": [
      "[('SIZE', 400, 'monthly'), ('USVM', 1200, 'monthly'), ('ULVM', 100, 'monthly'), ('EFV', 100, 'monthly')]\n"
     ]
    },
    {
     "data": {
      "text/plain": "<Figure size 1500x1000 with 1 Axes>",
      "image/png": "[encoded data removed]"
     },
     "metadata": {},
     "output_type": "display_data"
    }
   ],
   "source": [
    "\n",
    "import seaborn as sns\n",
    "import matplotlib.pyplot as plt\n",
    "\n",
    "# plot the balance of the etfs over time\n",
    "\n",
    "client_id = 0\n",
    "# get the etfs of the first client\n",
    "etfs = client_etfs[client_id]\n",
    "print(etfs)\n",
    "# get the transactions of the first client\n",
    "selected_transactions = transactions[transactions['client_id'] == client_id]\n",
    "sns.set_theme(style=\"darkgrid\")\n",
    "fig, ax = plt.subplots(figsize=(15, 10))\n",
    "for etf in etfs:\n",
    "    # get the transactions of the current etf\n",
    "    etf_transactions = selected_transactions[selected_transactions['etf_id'] == etf[0]]\n",
    "    # get the balance of the etf over time\n",
    "    etf_balance = etf_transactions.groupby('date').sum()['amount'].cumsum()\n",
    "    # plot the balance\n",
    "    ax.plot(etf_balance, label=etf[0])\n",
    "\n",
    "ax.legend()\n",
    "plt.show()\n"
   ],
   "metadata": {
    "collapsed": false,
    "ExecuteTime": {
     "end_time": "2023-11-01T14:08:32.901028Z",
     "start_time": "2023-11-01T14:08:32.607467900Z"
    }
   },
   "id": "491d5c18ec732db3"
  },
  {
   "cell_type": "markdown",
   "source": [
    "# Cost"
   ],
   "metadata": {
    "collapsed": false
   },
   "id": "b20d7a105a37074e"
  },
  {
   "cell_type": "code",
   "execution_count": 3,
   "outputs": [],
   "source": [
    "employee_dataframe = pd.read_csv('data/employee.csv', sep=';')"
   ],
   "metadata": {
    "collapsed": false,
    "ExecuteTime": {
     "end_time": "2023-11-01T15:04:20.960757600Z",
     "start_time": "2023-11-01T15:04:20.936606200Z"
    }
   },
   "id": "953b374b3e594fe1"
  },
  {
   "cell_type": "code",
   "execution_count": 6,
   "outputs": [],
   "source": [
    "# generate cost for each employee\n",
    "\n",
    "# random date 6 years ago\n",
    "starting_month = random.randint(1, 12)\n",
    "\n",
    "\n",
    "# amount of months between start date and today\n",
    "\n",
    "def generate_german_iban():\n",
    "    # Germany country code and check digits\n",
    "    country_code = \"DE\"\n",
    "    check_digits = str(random.randint(0, 9)) + str(random.randint(0, 9))\n",
    "\n",
    "    # Generate a random domestic account number (20 digits)\n",
    "    account_number = ''.join([str(random.randint(0, 9)) for _ in range(20)])\n",
    "\n",
    "    # Combine the parts to form the complete IBAN\n",
    "    iban = country_code + check_digits + account_number\n",
    "\n",
    "    return iban\n",
    "\n",
    "\n",
    "# generate random Bank Account Number for each employee\n",
    "targets = [generate_german_iban() for i in range(len(employee_dataframe))]\n",
    "# generate Bank Account Number for power, water, internet, rent\n",
    "expenses = [\n",
    "    {\"expense\": \"Rent\", \"cost\": 1500},  # Monthly rent for the office space\n",
    "    {\"expense\": \"Utilities\", \"cost\": 250},  # Monthly utilities (electricity, water, heating, internet)\n",
    "    {\"expense\": \"Equipment and Supplies\", \"cost\": 100},  # Cost of office equipment and supplies\n",
    "    {\"expense\": \"Taxes\", \"cost\": 800},  # Estimated monthly taxes (corporate income tax, trade tax, VAT)\n",
    "    {\"expense\": \"Insurance\", \"cost\": 300},  # Monthly insurance costs\n",
    "    {\"expense\": \"Marketing and Advertising\", \"cost\": 500},  # Monthly marketing and advertising expenses\n",
    "    {\"expense\": \"Accounting and Legal Fees\", \"cost\": 400},  # Monthly accounting and legal fees\n",
    "    {\"expense\": \"Transportation\", \"cost\": 150},  # Monthly transportation expenses\n",
    "    {\"expense\": \"Miscellaneous Expenses\", \"cost\": 200},  # Miscellaneous monthly expenses\n",
    "    {\"expense\": \"Software and Technology\", \"cost\": 300},  # Monthly software and technology costs\n",
    "    {\"expense\": \"Training and Development\", \"cost\": 250},  # Monthly training and development expenses\n",
    "    {\"expense\": \"Contingency and Growth Funds\", \"cost\": 500},  # Set aside for unexpected expenses and growth\n",
    "]\n",
    "\n",
    "expenses_target = [generate_german_iban() for i in range(len(expenses))]\n",
    "\n",
    "# get cost for each employee per month\n",
    "employee_cost = [employee_dataframe['salary'][employee] for employee in employee_dataframe['id']]\n",
    "\n",
    "df_cost_columns = ['id', 'date', 'cost', 'reason', 'target']\n",
    "df_cost = pd.DataFrame(columns=df_cost_columns)\n",
    "\n",
    "id = 0\n",
    "# add cost for each employee per month starting from the start date\n",
    "for employee in employee_dataframe['id']:\n",
    "    for month in range(72):\n",
    "        date = pd.Timestamp.today() - pd.DateOffset(months=month)\n",
    "        # formats as YYYY-MM-DD\n",
    "        date = date.strftime(\"%Y-%m-%d\")\n",
    "        cost = employee_cost[employee] / 12\n",
    "        cost = round(cost, 2)\n",
    "        reason = 'Salary'\n",
    "        target = targets[employee]\n",
    "        df_cost.loc[len(df_cost)] = [id, date, cost, reason, target]\n",
    "        id += 1\n",
    "\n",
    "# add cost for each expense per month starting from the start date\n",
    "for expense in expenses:\n",
    "    for month in range(72):\n",
    "        date = pd.Timestamp.today() - pd.DateOffset(months=month)\n",
    "        date = date.strftime(\"%Y-%m-%d\")\n",
    "        cost = expense['cost']\n",
    "        # each year the cost increases by 2%\n",
    "        cost /= 1.02 ** (month // 12)\n",
    "        reason = expense['expense']\n",
    "        df_cost.loc[len(df_cost)] = [id, date, cost, reason,\n",
    "                                     expenses_target[expenses.index(expense)]]\n",
    "        id += 1\n",
    "\n",
    "\n"
   ],
   "metadata": {
    "collapsed": false,
    "ExecuteTime": {
     "end_time": "2023-11-01T15:05:03.928480800Z",
     "start_time": "2023-11-01T15:05:02.908392200Z"
    }
   },
   "id": "c4526b92646de906"
  },
  {
   "cell_type": "code",
   "execution_count": 7,
   "outputs": [
    {
     "data": {
      "text/plain": "        id        date         cost                        reason  \\\n0        0  2023-11-01  3000.000000                        Salary   \n1        1  2023-10-01  3000.000000                        Salary   \n2        2  2023-09-01  3000.000000                        Salary   \n3        3  2023-08-01  3000.000000                        Salary   \n4        4  2023-07-01  3000.000000                        Salary   \n...    ...         ...          ...                           ...   \n1219  1219  2018-04-01   452.865405  Contingency and Growth Funds   \n1220  1220  2018-03-01   452.865405  Contingency and Growth Funds   \n1221  1221  2018-02-01   452.865405  Contingency and Growth Funds   \n1222  1222  2018-01-01   452.865405  Contingency and Growth Funds   \n1223  1223  2017-12-01   452.865405  Contingency and Growth Funds   \n\n                        target  \n0     DE8853436021080566243259  \n1     DE8853436021080566243259  \n2     DE8853436021080566243259  \n3     DE8853436021080566243259  \n4     DE8853436021080566243259  \n...                        ...  \n1219  DE2944506635666932327586  \n1220  DE2944506635666932327586  \n1221  DE2944506635666932327586  \n1222  DE2944506635666932327586  \n1223  DE2944506635666932327586  \n\n[1224 rows x 5 columns]",
      "text/html": "<div>\n<style scoped>\n    .dataframe tbody tr th:only-of-type {\n        vertical-align: middle;\n    }\n\n    .dataframe tbody tr th {\n        vertical-align: top;\n    }\n\n    .dataframe thead th {\n        text-align: right;\n    }\n</style>\n<table border=\"1\" class=\"dataframe\">\n  <thead>\n    <tr style=\"text-align: right;\">\n      <th></th>\n      <th>id</th>\n      <th>date</th>\n      <th>cost</th>\n      <th>reason</th>\n      <th>target</th>\n    </tr>\n  </thead>\n  <tbody>\n    <tr>\n      <th>0</th>\n      <td>0</td>\n      <td>2023-11-01</td>\n      <td>3000.000000</td>\n      <td>Salary</td>\n      <td>DE8853436021080566243259</td>\n    </tr>\n    <tr>\n      <th>1</th>\n      <td>1</td>\n      <td>2023-10-01</td>\n      <td>3000.000000</td>\n      <td>Salary</td>\n      <td>DE8853436021080566243259</td>\n    </tr>\n    <tr>\n      <th>2</th>\n      <td>2</td>\n      <td>2023-09-01</td>\n      <td>3000.000000</td>\n      <td>Salary</td>\n      <td>DE8853436021080566243259</td>\n    </tr>\n    <tr>\n      <th>3</th>\n      <td>3</td>\n      <td>2023-08-01</td>\n      <td>3000.000000</td>\n      <td>Salary</td>\n      <td>DE8853436021080566243259</td>\n    </tr>\n    <tr>\n      <th>4</th>\n      <td>4</td>\n      <td>2023-07-01</td>\n      <td>3000.000000</td>\n      <td>Salary</td>\n      <td>DE8853436021080566243259</td>\n    </tr>\n    <tr>\n      <th>...</th>\n      <td>...</td>\n      <td>...</td>\n      <td>...</td>\n      <td>...</td>\n      <td>...</td>\n    </tr>\n    <tr>\n      <th>1219</th>\n      <td>1219</td>\n      <td>2018-04-01</td>\n      <td>452.865405</td>\n      <td>Contingency and Growth Funds</td>\n      <td>DE2944506635666932327586</td>\n    </tr>\n    <tr>\n      <th>1220</th>\n      <td>1220</td>\n      <td>2018-03-01</td>\n      <td>452.865405</td>\n      <td>Contingency and Growth Funds</td>\n      <td>DE2944506635666932327586</td>\n    </tr>\n    <tr>\n      <th>1221</th>\n      <td>1221</td>\n      <td>2018-02-01</td>\n      <td>452.865405</td>\n      <td>Contingency and Growth Funds</td>\n      <td>DE2944506635666932327586</td>\n    </tr>\n    <tr>\n      <th>1222</th>\n      <td>1222</td>\n      <td>2018-01-01</td>\n      <td>452.865405</td>\n      <td>Contingency and Growth Funds</td>\n      <td>DE2944506635666932327586</td>\n    </tr>\n    <tr>\n      <th>1223</th>\n      <td>1223</td>\n      <td>2017-12-01</td>\n      <td>452.865405</td>\n      <td>Contingency and Growth Funds</td>\n      <td>DE2944506635666932327586</td>\n    </tr>\n  </tbody>\n</table>\n<p>1224 rows × 5 columns</p>\n</div>"
     },
     "execution_count": 7,
     "metadata": {},
     "output_type": "execute_result"
    }
   ],
   "source": [
    "df_cost"
   ],
   "metadata": {
    "collapsed": false,
    "ExecuteTime": {
     "end_time": "2023-11-01T15:05:04.376203500Z",
     "start_time": "2023-11-01T15:05:04.362133600Z"
    }
   },
   "id": "ed48de5712ffc621"
  },
  {
   "cell_type": "code",
   "execution_count": 171,
   "outputs": [
    {
     "data": {
      "text/plain": "date\n2017-12-01    25705.086752\n2018-01-01    25705.086752\n2018-02-01    25705.086752\n2018-03-01    25705.086752\n2018-04-01    25705.086752\n                  ...     \n2023-07-01    26200.000000\n2023-08-01    26200.000000\n2023-09-01    26200.000000\n2023-10-01    26200.000000\n2023-11-01    26200.000000\nName: cost, Length: 72, dtype: float64"
     },
     "execution_count": 171,
     "metadata": {},
     "output_type": "execute_result"
    }
   ],
   "source": [
    "# cost per month\n",
    "df_cost.groupby('date').sum()['cost']\n"
   ],
   "metadata": {
    "collapsed": false,
    "ExecuteTime": {
     "end_time": "2023-11-01T14:09:19.475589400Z",
     "start_time": "2023-11-01T14:09:19.462524200Z"
    }
   },
   "id": "b917290e7722149f"
  },
  {
   "cell_type": "code",
   "execution_count": 172,
   "outputs": [],
   "source": [
    "# save to csv\n",
    "employee_dataframe.to_csv('data/employee.csv', index=False, sep=';')\n",
    "client_dataframe.to_csv('data/client.csv', index=False, sep=';')\n",
    "consultation_dataframe.to_csv('data/consultation.csv', index=False, sep=';')\n",
    "transactions.to_csv('data/transaction.csv', index=False, sep=';')\n",
    "df_cost.to_csv('data/cost.csv', index=False, sep=';')"
   ],
   "metadata": {
    "collapsed": false,
    "ExecuteTime": {
     "end_time": "2023-11-01T14:28:26.305307300Z",
     "start_time": "2023-11-01T14:28:26.225316200Z"
    }
   },
   "id": "fb7a1ddefd830590"
  },
  {
   "cell_type": "code",
   "execution_count": null,
   "outputs": [],
   "source": [],
   "metadata": {
    "collapsed": false
   },
   "id": "fbb64696336e4fb1"
  }
 ],
 "metadata": {
  "kernelspec": {
   "display_name": "Python 3",
   "language": "python",
   "name": "python3"
  },
  "language_info": {
   "codemirror_mode": {
    "name": "ipython",
    "version": 2
   },
   "file_extension": ".py",
   "mimetype": "text/x-python",
   "name": "python",
   "nbconvert_exporter": "python",
   "pygments_lexer": "ipython2",
   "version": "2.7.6"
  }
 },
 "nbformat": 4,
 "nbformat_minor": 5
}
